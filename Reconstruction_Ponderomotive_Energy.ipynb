{
 "cells": [
  {
   "cell_type": "code",
   "execution_count": 1,
   "metadata": {},
   "outputs": [],
   "source": [
    "import tensorflow as tf\n",
    "import numpy as np\n",
    "import os\n",
    "from scipy.io import loadmat\n",
    "\n",
    "import matplotlib.pyplot as plt\n",
    "import matplotlib.gridspec as gridspec\n",
    "\n",
    "from tensorflow.keras.models import Sequential\n",
    "from tensorflow.keras.layers import Dense, Dropout, Flatten, Activation\n",
    "from tensorflow.keras.layers import Conv2D, LeakyReLU\n",
    "from tensorflow.keras.utils import plot_model\n",
    "\n",
    "train_data_path = '/home/zhaohengguo/Desktop/VMI_Codes_8_by_8/Training_Data/0603/'"
   ]
  },
  {
   "cell_type": "code",
   "execution_count": 2,
   "metadata": {},
   "outputs": [],
   "source": [
    "def scale_vector_potential(Up):\n",
    "    \"\"\"We use this fucntion to scale the vector potential into a number between [-1,1].\n",
    "    This is benefit the training process of out CNN model which uses tanh as the nonlinear activation\n",
    "    of the last fully-connected layer.\n",
    "    Input:\n",
    "    Up: A N-by-1 array. The ponderomotive energy of the laser field.\n",
    "    Output:\n",
    "    A_streaking_scale: A N-by-1 array. The amplitude of the vector potential of the laser field. Each number\n",
    "    is within [-1, 1].\n",
    "    A_range: [A_min, A_max], where both A_min and A_max are in the atomic unit. They will be used to reconstruct\n",
    "    the physical vector potential of the laser field from the output of out model.\n",
    "    \"\"\"\n",
    "    \n",
    "    A_streaking = np.sqrt(Up)\n",
    "    A_range = [np.min(A_streaking), np.max(A_streaking)]\n",
    "    \n",
    "    A_aver = (np.max(A_streaking)+np.min(A_streaking))/2\n",
    "    \n",
    "    A_streaking_scale = 2*(A_streaking-A_aver)/np.ptp(A_streaking)\n",
    "    \n",
    "    return A_streaking_scale, A_range\n",
    "\n",
    "def reconstruct_vector_potential(A_out_scale, A_range):\n",
    "    \"\"\"We use this function to reconstruct the physical vector potential of \n",
    "    the laser field from the output of out model.\n",
    "    Input:\n",
    "    A_out: A N-by-1 array. The amplitude of the vector potential of the laser field. Each number\n",
    "    is within [-1, 1].\n",
    "    A_range: [A_min, A_max], where both A_min and A_max are in the atomic unit.\n",
    "    Output:\n",
    "    A_recon: A N-by-1 array. The physical vector potential of the laser pulse.\n",
    "    \"\"\"\n",
    "    A_min = A_range[0]\n",
    "    A_max = A_range[1]\n",
    "    A_aver = (A_min+A_max)/2\n",
    "    A_range = (A_max-A_min)\n",
    "    \n",
    "    A_recon = A_aver + 0.5*A_out_scale\n",
    "    \n",
    "    return A_recon\n",
    "\n",
    "def scale_P2D(P2D):\n",
    "    \"\"\"We use this function to rescale the 2D momentum distribution of ionized photoelectrons.\n",
    "    Input:\n",
    "    P2D: A N-by-1024 array.\n",
    "    Output:\n",
    "    P2D_scale: A N-by-32-by-32-by-1 array.\"\"\"\n",
    "    \n",
    "    P2D = (P2D.T/np.max(P2D, axis = 1).T).T\n",
    "    P2D_scale = P2D.reshape([-1,32,32,1])\n",
    "    \n",
    "    return P2D_scale\n",
    "    \n",
    "    \n",
    "    "
   ]
  },
  {
   "cell_type": "code",
   "execution_count": 3,
   "metadata": {},
   "outputs": [],
   "source": [
    "P2D = loadmat(train_data_path+'P2D_train_737576.mat')['P2D_train']\n",
    "Up = loadmat(train_data_path+'Up_train_737576.mat')['Up_train']\n",
    "A_streaking_scale, A_range = scale_vector_potential(Up) # The amplitude of the vector potential of the streaking laser"
   ]
  },
  {
   "cell_type": "code",
   "execution_count": 4,
   "metadata": {},
   "outputs": [],
   "source": [
    "N_data = np.shape(P2D)[0]\n",
    "N_val = 400\n",
    "N_train = N_data-N_val\n",
    "\n",
    "# Split the data set into the training data set and the test data set\n",
    "# The training data set\n",
    "P2D_train_scale = scale_P2D(P2D[0:N_train, :])\n",
    "A_train_scale = A_streaking_scale[0:N_train, :]\n",
    "\n",
    "# The test data set\n",
    "P2D_val_scale = scale_P2D(P2D[-N_val:, :])\n",
    "A_val_scale = A_streaking_scale[-N_val:, :]"
   ]
  },
  {
   "cell_type": "markdown",
   "metadata": {},
   "source": [
    "## Build the CNN to reconstruct the pondermotive energy of the streaking laser from each VMI image"
   ]
  },
  {
   "cell_type": "code",
   "execution_count": 5,
   "metadata": {},
   "outputs": [],
   "source": [
    "def vector_potential_generator(VMI_dim):\n",
    "    \"\"\"Generate images from a VIM image of size input_dim.\n",
    "    \n",
    "    Inputs:\n",
    "    - z: TensorFlow Tensor of VMI images with shape [batch_size, VMI_dim**2]\n",
    "    \n",
    "    Returns:\n",
    "    TensorFlow Tensor of generated vector potentials, with shape [batch_size, 1].\n",
    "    \"\"\"\n",
    "    model = Sequential([\n",
    "        Conv2D(64, kernel_size=(4, 4), activation='tanh', input_shape=(VMI_dim, VMI_dim,1)),\n",
    "        \n",
    "        Dropout(0.25),\n",
    "        \n",
    "        Conv2D(32, (3, 3), activation='tanh'),\n",
    "        \n",
    "        Dropout(0.25),\n",
    "        \n",
    "        Conv2D(16, (3, 3), activation='tanh'),\n",
    "        \n",
    "        Flatten(),\n",
    "        \n",
    "        Dense(100, activation='tanh'),\n",
    "        \n",
    "        Dropout(0.25),\n",
    "        \n",
    "        Dense(1, activation='tanh')\n",
    "\n",
    "    ])\n",
    "    return model"
   ]
  },
  {
   "cell_type": "code",
   "execution_count": 7,
   "metadata": {},
   "outputs": [],
   "source": [
    "model = vector_potential_generator(32)\n",
    "\n",
    "adam_opt = tf.keras.optimizers.Adam(lr = 0.0001, beta_1=0.9, beta_2=0.999, decay=1e-6)\n",
    "model.compile(loss='mean_squared_error',optimizer=adam_opt)"
   ]
  },
  {
   "cell_type": "code",
   "execution_count": 11,
   "metadata": {
    "scrolled": true
   },
   "outputs": [
    {
     "name": "stdout",
     "output_type": "stream",
     "text": [
      "Train on 19600 samples, validate on 400 samples\n",
      "WARNING:tensorflow:From /home/zhaohengguo/anaconda3/lib/python3.7/site-packages/tensorflow/python/ops/math_ops.py:3066: to_int32 (from tensorflow.python.ops.math_ops) is deprecated and will be removed in a future version.\n",
      "Instructions for updating:\n",
      "Use tf.cast instead.\n",
      "Epoch 1/30\n",
      "19600/19600 [==============================] - 33s 2ms/sample - loss: 0.0123 - val_loss: 0.0030\n",
      "Epoch 2/30\n",
      "19600/19600 [==============================] - 31s 2ms/sample - loss: 0.0065 - val_loss: 0.0025\n",
      "Epoch 3/30\n",
      "19600/19600 [==============================] - 31s 2ms/sample - loss: 0.0053 - val_loss: 0.0024\n",
      "Epoch 4/30\n",
      "19600/19600 [==============================] - 31s 2ms/sample - loss: 0.0045 - val_loss: 0.0022\n",
      "Epoch 5/30\n",
      "19600/19600 [==============================] - 31s 2ms/sample - loss: 0.0042 - val_loss: 0.0022\n",
      "Epoch 6/30\n",
      "19600/19600 [==============================] - 31s 2ms/sample - loss: 0.0040 - val_loss: 0.0023\n",
      "Epoch 7/30\n",
      "19600/19600 [==============================] - 30s 2ms/sample - loss: 0.0037 - val_loss: 0.0022\n",
      "Epoch 8/30\n",
      "19600/19600 [==============================] - 31s 2ms/sample - loss: 0.0036 - val_loss: 0.0022\n",
      "Epoch 9/30\n",
      "19600/19600 [==============================] - 31s 2ms/sample - loss: 0.0035 - val_loss: 0.0021\n",
      "Epoch 10/30\n",
      "19600/19600 [==============================] - 31s 2ms/sample - loss: 0.0035 - val_loss: 0.0021\n",
      "Epoch 11/30\n",
      "19600/19600 [==============================] - 31s 2ms/sample - loss: 0.0033 - val_loss: 0.0021\n",
      "Epoch 12/30\n",
      "19600/19600 [==============================] - 31s 2ms/sample - loss: 0.0033 - val_loss: 0.0021\n",
      "Epoch 13/30\n",
      "19600/19600 [==============================] - 31s 2ms/sample - loss: 0.0031 - val_loss: 0.0021\n",
      "Epoch 14/30\n",
      "19600/19600 [==============================] - 31s 2ms/sample - loss: 0.0031 - val_loss: 0.0020\n",
      "Epoch 15/30\n",
      "19600/19600 [==============================] - 31s 2ms/sample - loss: 0.0031 - val_loss: 0.0021\n",
      "Epoch 16/30\n",
      "19600/19600 [==============================] - 31s 2ms/sample - loss: 0.0030 - val_loss: 0.0020\n",
      "Epoch 17/30\n",
      "19600/19600 [==============================] - 31s 2ms/sample - loss: 0.0029 - val_loss: 0.0020\n",
      "Epoch 18/30\n",
      "19600/19600 [==============================] - 31s 2ms/sample - loss: 0.0029 - val_loss: 0.0019\n",
      "Epoch 19/30\n",
      "19600/19600 [==============================] - 30s 2ms/sample - loss: 0.0029 - val_loss: 0.0023\n",
      "Epoch 20/30\n",
      "19600/19600 [==============================] - 30s 2ms/sample - loss: 0.0028 - val_loss: 0.0021\n",
      "Epoch 21/30\n",
      "19600/19600 [==============================] - 30s 2ms/sample - loss: 0.0029 - val_loss: 0.0021\n",
      "Epoch 22/30\n",
      "19600/19600 [==============================] - 31s 2ms/sample - loss: 0.0028 - val_loss: 0.0019\n",
      "Epoch 23/30\n",
      "19600/19600 [==============================] - 31s 2ms/sample - loss: 0.0027 - val_loss: 0.0020\n",
      "Epoch 24/30\n",
      "19600/19600 [==============================] - 31s 2ms/sample - loss: 0.0027 - val_loss: 0.0019\n",
      "Epoch 25/30\n",
      "19600/19600 [==============================] - 30s 2ms/sample - loss: 0.0027 - val_loss: 0.0018\n",
      "Epoch 26/30\n",
      "19600/19600 [==============================] - 30s 2ms/sample - loss: 0.0025 - val_loss: 0.0017\n",
      "Epoch 27/30\n",
      "19600/19600 [==============================] - 30s 2ms/sample - loss: 0.0025 - val_loss: 0.0015\n",
      "Epoch 28/30\n",
      "19600/19600 [==============================] - 30s 2ms/sample - loss: 0.0025 - val_loss: 0.0014\n",
      "Epoch 29/30\n",
      "19600/19600 [==============================] - 30s 2ms/sample - loss: 0.0023 - val_loss: 0.0013\n",
      "Epoch 30/30\n",
      "19600/19600 [==============================] - 30s 2ms/sample - loss: 0.0023 - val_loss: 0.0013\n"
     ]
    }
   ],
   "source": [
    "history = model.fit(P2D_train_scale, A_train_scale, epochs=30, batch_size=200, shuffle=True, validation_data = (P2D_val_scale,A_val_scale))"
   ]
  },
  {
   "cell_type": "code",
   "execution_count": 79,
   "metadata": {},
   "outputs": [],
   "source": [
    "model.save('Model_A_Recon')"
   ]
  },
  {
   "cell_type": "code",
   "execution_count": 10,
   "metadata": {},
   "outputs": [
    {
     "ename": "NameError",
     "evalue": "name 'history' is not defined",
     "output_type": "error",
     "traceback": [
      "\u001b[0;31m---------------------------------------------------------------------------\u001b[0m",
      "\u001b[0;31mNameError\u001b[0m                                 Traceback (most recent call last)",
      "\u001b[0;32m<ipython-input-10-16bc2599553b>\u001b[0m in \u001b[0;36m<module>\u001b[0;34m\u001b[0m\n\u001b[1;32m      1\u001b[0m \u001b[0;31m# Plot training & validation loss values\u001b[0m\u001b[0;34m\u001b[0m\u001b[0;34m\u001b[0m\u001b[0;34m\u001b[0m\u001b[0m\n\u001b[0;32m----> 2\u001b[0;31m \u001b[0mplt\u001b[0m\u001b[0;34m.\u001b[0m\u001b[0msemilogy\u001b[0m\u001b[0;34m(\u001b[0m\u001b[0mhistory\u001b[0m\u001b[0;34m.\u001b[0m\u001b[0mhistory\u001b[0m\u001b[0;34m[\u001b[0m\u001b[0;34m'loss'\u001b[0m\u001b[0;34m]\u001b[0m\u001b[0;34m)\u001b[0m\u001b[0;34m\u001b[0m\u001b[0;34m\u001b[0m\u001b[0m\n\u001b[0m\u001b[1;32m      3\u001b[0m \u001b[0mplt\u001b[0m\u001b[0;34m.\u001b[0m\u001b[0msemilogy\u001b[0m\u001b[0;34m(\u001b[0m\u001b[0mhistory\u001b[0m\u001b[0;34m.\u001b[0m\u001b[0mhistory\u001b[0m\u001b[0;34m[\u001b[0m\u001b[0;34m'val_loss'\u001b[0m\u001b[0;34m]\u001b[0m\u001b[0;34m)\u001b[0m\u001b[0;34m\u001b[0m\u001b[0;34m\u001b[0m\u001b[0m\n\u001b[1;32m      4\u001b[0m \u001b[0mplt\u001b[0m\u001b[0;34m.\u001b[0m\u001b[0mtitle\u001b[0m\u001b[0;34m(\u001b[0m\u001b[0;34m'Model loss'\u001b[0m\u001b[0;34m)\u001b[0m\u001b[0;34m\u001b[0m\u001b[0;34m\u001b[0m\u001b[0m\n\u001b[1;32m      5\u001b[0m \u001b[0mplt\u001b[0m\u001b[0;34m.\u001b[0m\u001b[0mylabel\u001b[0m\u001b[0;34m(\u001b[0m\u001b[0;34m'Loss'\u001b[0m\u001b[0;34m)\u001b[0m\u001b[0;34m\u001b[0m\u001b[0;34m\u001b[0m\u001b[0m\n",
      "\u001b[0;31mNameError\u001b[0m: name 'history' is not defined"
     ]
    }
   ],
   "source": [
    "# Plot training & validation loss values\n",
    "plt.semilogy(history.history['loss'])\n",
    "plt.semilogy(history.history['val_loss'])\n",
    "plt.title('Model loss')\n",
    "plt.ylabel('Loss')\n",
    "plt.xlabel('Epoch')\n",
    "plt.legend(['Train', 'Test'], loc='upper left')\n",
    "plt.savefig('train_err_A.eps')\n",
    "plt.show()"
   ]
  },
  {
   "cell_type": "markdown",
   "metadata": {},
   "source": [
    "## Test our model on the test data set"
   ]
  },
  {
   "cell_type": "code",
   "execution_count": 65,
   "metadata": {},
   "outputs": [],
   "source": [
    "test_data_path = '/home/zhaohengguo/Desktop/VMI_Codes_8_by_8/Training_Data/0604/'"
   ]
  },
  {
   "cell_type": "code",
   "execution_count": 66,
   "metadata": {},
   "outputs": [],
   "source": [
    "P2D_test = loadmat(test_data_path+'P2D_train_737580.mat')['P2D_train']\n",
    "Up_test = loadmat(test_data_path+'Up_train_737580.mat')['Up_train']\n",
    "A_test = np.sqrt(Up_test[0,0]) # The amplitude of the vector potential of the streaking laser\n",
    "P2D_test_scale = scale_P2D(P2D_test)"
   ]
  },
  {
   "cell_type": "code",
   "execution_count": 67,
   "metadata": {},
   "outputs": [],
   "source": [
    "A_out_scale = model.predict(P2D_test_scale)"
   ]
  },
  {
   "cell_type": "code",
   "execution_count": 68,
   "metadata": {},
   "outputs": [],
   "source": [
    "A_output = reconstruct_vector_potential(A_out_scale, A_range)"
   ]
  },
  {
   "cell_type": "code",
   "execution_count": 82,
   "metadata": {},
   "outputs": [
    {
     "data": {
      "image/png": "[encoded data removed]",
      "text/plain": [
       "<Figure size 432x288 with 1 Axes>"
      ]
     },
     "metadata": {
      "needs_background": "light"
     },
     "output_type": "display_data"
    }
   ],
   "source": [
    "n, bins, patches = plt.hist(np.ravel(A_output), 50, facecolor='b')\n",
    "\n",
    "\n",
    "plt.xlabel('Vector Potential (a. u.)')\n",
    "plt.ylabel('Counts')\n",
    "plt.title('Histogram of Predicted Vector Potentials')\n",
    "plt.text(0.76, 130, r'Input Vector Potential is 0.767 a. u.')\n",
    "plt.savefig('hist_test_A.eps')\n",
    "plt.show()"
   ]
  },
  {
   "cell_type": "code",
   "execution_count": 88,
   "metadata": {},
   "outputs": [],
   "source": [
    "model.save('Model_A_Recon')"
   ]
  },
  {
   "cell_type": "code",
   "execution_count": 8,
   "metadata": {},
   "outputs": [],
   "source": [
    "plot_model(model, to_file='model_A.png',show_shapes=True, show_layer_names=True)"
   ]
  },
  {
   "cell_type": "code",
   "execution_count": 9,
   "metadata": {},
   "outputs": [
    {
     "ename": "NameError",
     "evalue": "name 'A_output' is not defined",
     "output_type": "error",
     "traceback": [
      "\u001b[0;31m---------------------------------------------------------------------------\u001b[0m",
      "\u001b[0;31mNameError\u001b[0m                                 Traceback (most recent call last)",
      "\u001b[0;32m<ipython-input-9-97683ba02e00>\u001b[0m in \u001b[0;36m<module>\u001b[0;34m\u001b[0m\n\u001b[0;32m----> 1\u001b[0;31m \u001b[0mnp\u001b[0m\u001b[0;34m.\u001b[0m\u001b[0mmean\u001b[0m\u001b[0;34m(\u001b[0m\u001b[0mA_output\u001b[0m\u001b[0;34m)\u001b[0m\u001b[0;34m\u001b[0m\u001b[0;34m\u001b[0m\u001b[0m\n\u001b[0m",
      "\u001b[0;31mNameError\u001b[0m: name 'A_output' is not defined"
     ]
    }
   ],
   "source": [
    "np.mean(A_output)"
   ]
  },
  {
   "cell_type": "code",
   "execution_count": null,
   "metadata": {},
   "outputs": [],
   "source": []
  }
 ],
 "metadata": {
  "kernelspec": {
   "display_name": "Python 3",
   "language": "python",
   "name": "python3"
  },
  "language_info": {
   "codemirror_mode": {
    "name": "ipython",
    "version": 3
   },
   "file_extension": ".py",
   "mimetype": "text/x-python",
   "name": "python",
   "nbconvert_exporter": "python",
   "pygments_lexer": "ipython3",
   "version": "3.7.3"
  }
 },
 "nbformat": 4,
 "nbformat_minor": 2
}
